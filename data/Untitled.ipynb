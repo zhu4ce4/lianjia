{
 "cells": [
  {
   "cell_type": "code",
   "execution_count": 1,
   "metadata": {},
   "outputs": [],
   "source": [
    "import pandas as pd\n",
    "import numpy as np"
   ]
  },
  {
   "cell_type": "code",
   "execution_count": 7,
   "metadata": {},
   "outputs": [],
   "source": [
    "rawdata=pd.read_csv('yubei.csv',columns=['名称',''])"
   ]
  },
  {
   "cell_type": "code",
   "execution_count": 8,
   "metadata": {},
   "outputs": [
    {
     "data": {
      "text/html": [
       "<div>\n",
       "<style scoped>\n",
       "    .dataframe tbody tr th:only-of-type {\n",
       "        vertical-align: middle;\n",
       "    }\n",
       "\n",
       "    .dataframe tbody tr th {\n",
       "        vertical-align: top;\n",
       "    }\n",
       "\n",
       "    .dataframe thead th {\n",
       "        text-align: right;\n",
       "    }\n",
       "</style>\n",
       "<table border=\"1\" class=\"dataframe\">\n",
       "  <thead>\n",
       "    <tr style=\"text-align: right;\">\n",
       "      <th></th>\n",
       "      <th>首创十方界</th>\n",
       "      <th>低楼层(共4层)2010年建板楼  -  龙头寺</th>\n",
       "      <th>3室2厅</th>\n",
       "      <th>161.73平米</th>\n",
       "      <th>南</th>\n",
       "      <th>低楼层(共4层)2010年建板楼  -  龙头寺.1</th>\n",
       "      <th>房本满五年</th>\n",
       "      <th>306</th>\n",
       "      <th>18921</th>\n",
       "      <th>48人关注 / 共1次带看 / 一年前发布</th>\n",
       "      <th>毛坯</th>\n",
       "    </tr>\n",
       "  </thead>\n",
       "  <tbody>\n",
       "    <tr>\n",
       "      <th>0</th>\n",
       "      <td>青河世家</td>\n",
       "      <td>低楼层(共24层)2009年建板塔结合  -  汽博中心</td>\n",
       "      <td>3室2厅</td>\n",
       "      <td>104平米</td>\n",
       "      <td>西南</td>\n",
       "      <td>低楼层(共24层)2009年建板塔结合  -  汽博中心</td>\n",
       "      <td>房本满五年</td>\n",
       "      <td>130.0</td>\n",
       "      <td>12500</td>\n",
       "      <td>714人关注 / 共0次带看 / 一年前发布</td>\n",
       "      <td>毛坯</td>\n",
       "    </tr>\n",
       "  </tbody>\n",
       "</table>\n",
       "</div>"
      ],
      "text/plain": [
       "  首创十方界        低楼层(共4层)2010年建板楼  -  龙头寺   3室2厅   161.73平米     南   \\\n",
       "0  青河世家    低楼层(共24层)2009年建板塔结合  -  汽博中心   3室2厅      104平米    西南    \n",
       "\n",
       "     低楼层(共4层)2010年建板楼  -  龙头寺.1  房本满五年    306  18921   48人关注 / 共1次带看 / 一年前发布  \\\n",
       "0  低楼层(共24层)2009年建板塔结合  -  汽博中心  房本满五年  130.0  12500  714人关注 / 共0次带看 / 一年前发布   \n",
       "\n",
       "    毛坯   \n",
       "0   毛坯   "
      ]
     },
     "execution_count": 8,
     "metadata": {},
     "output_type": "execute_result"
    }
   ],
   "source": [
    "rawdata.head(1)"
   ]
  },
  {
   "cell_type": "code",
   "execution_count": null,
   "metadata": {},
   "outputs": [],
   "source": []
  }
 ],
 "metadata": {
  "kernelspec": {
   "display_name": "Python 3",
   "language": "python",
   "name": "python3"
  },
  "language_info": {
   "codemirror_mode": {
    "name": "ipython",
    "version": 3
   },
   "file_extension": ".py",
   "mimetype": "text/x-python",
   "name": "python",
   "nbconvert_exporter": "python",
   "pygments_lexer": "ipython3",
   "version": "3.7.2"
  }
 },
 "nbformat": 4,
 "nbformat_minor": 2
}
